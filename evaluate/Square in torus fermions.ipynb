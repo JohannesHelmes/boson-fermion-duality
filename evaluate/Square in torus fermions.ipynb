{
 "cells": [
  {
   "cell_type": "code",
   "execution_count": 41,
   "metadata": {
    "collapsed": false
   },
   "outputs": [
    {
     "name": "stdout",
     "output_type": "stream",
     "text": [
      "32\n",
      "1.0 1.22433509043\n",
      "2.0 0.782967516952\n",
      "3.0 0.669841033285\n",
      "4.0 0.623663521139\n"
     ]
    }
   ],
   "source": [
    "import numpy as np\n",
    "from scipy.optimize import curve_fit\n",
    "\n",
    "pre_path=\"../fermions/square-in-torus/std-prec/data/Data/EE_square_M0.00_Lmult4.00_alpha\"\n",
    "post_path=\"00_pbc.txt\"\n",
    "\n",
    "CT=3/(np.pi**2*16)\n",
    "\n",
    "alphas = [1.0,2.0,3.0,4.0]\n",
    "\n",
    "def arealaw(x,a,b,c):\n",
    "    return a*x + b*np.log(x) + c\n",
    "\n",
    "print len(L)\n",
    "\n",
    "cutoff=24\n",
    "\n",
    "for a in alphas:\n",
    "    L, S = np.loadtxt(pre_path+str(a)+post_path,unpack=True)\n",
    "    Ss= [s for (l,s) in sorted(zip(L,S))]\n",
    "    Ls=sorted(L)\n",
    "    \n",
    "    popt, pcov = curve_fit(arealaw, Ls[cutoff:], Ss[cutoff:])\n",
    "    \n",
    "    print a, -popt[1]/(4.*CT)\n"
   ]
  }
 ],
 "metadata": {
  "kernelspec": {
   "display_name": "Python 2",
   "language": "python",
   "name": "python2"
  },
  "language_info": {
   "codemirror_mode": {
    "name": "ipython",
    "version": 2
   },
   "file_extension": ".py",
   "mimetype": "text/x-python",
   "name": "python",
   "nbconvert_exporter": "python",
   "pygments_lexer": "ipython2",
   "version": "2.7.10"
  }
 },
 "nbformat": 4,
 "nbformat_minor": 0
}
