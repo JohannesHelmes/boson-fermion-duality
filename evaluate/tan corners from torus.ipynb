{
 "cells": [
  {
   "cell_type": "code",
   "execution_count": 7,
   "metadata": {
    "collapsed": false
   },
   "outputs": [
    {
     "name": "stdout",
     "output_type": "stream",
     "text": [
      "[  7.98626651e-03  -3.36129934e-10   1.03150621e+00]\n",
      "1.0 0.0113747881857\n",
      "[  7.98626651e-03  -3.36129934e-10   1.03150621e+00]\n",
      "2.0 0.00790787199179\n",
      "[  7.98626651e-03  -3.36129934e-10   1.03150621e+00]\n",
      "3.0 0.00710577636879\n",
      "[  7.98626651e-03  -3.36129934e-10   1.03150621e+00]\n",
      "4.0 0.00673403387737\n",
      "[6.0, 8.0, 10.0, 12.0, 14.0, 16.0]\n"
     ]
    }
   ],
   "source": [
    "import numpy as np\n",
    "from scipy.optimize import curve_fit\n",
    "import matplotlib.pyplot as plt\n",
    "\n",
    "pre_path=\"../fermions/square-in-torus/std-prec/data/Renyi1234/EE_band_tanm2_M0.00_Lmult6.00_alpha\"\n",
    "post_path=\"00_pbc.txt\"\n",
    "\n",
    "\n",
    "alphas = [1.0,2.0,3.0,4.0]\n",
    "\n",
    "\n",
    "def arealaw(x,a,b,c):\n",
    "    return a*x + b*np.log(x) + c\n",
    "\n",
    "def extrap_curve(x, a,b,p):\n",
    "    return a + b/(x**p)\n",
    "\n",
    "cutoffs=np.array(range(0,2))\n",
    "\n",
    "for a in alphas:\n",
    "    Ccont=[]\n",
    "    OoLs=[]\n",
    "    dump, L, S = np.loadtxt(pre_path+str(a)+post_path,unpack=True)\n",
    "    Ss= [s for (l,s) in sorted(zip(L,S))]\n",
    "    Ls=sorted(L)\n",
    "    for cutoff in cutoffs:\n",
    "\n",
    "        popt, pcov = curve_fit(arealaw, Ls[cutoff:cutoff+5], Ss[cutoff:cutoff+5])\n",
    "        #print a, (-popt[1]/4.)\n",
    "        \n",
    "        #print Ls[cutoff+5]\n",
    "        \n",
    "        Ccont.append((-popt[1]/4.))\n",
    "        #OoLs.append(1./np.log(Ls[cutoff]))\n",
    "        OoLs.append(1./(Ls[cutoff]**1.4514))\n",
    "        \n",
    "        \n",
    "    p1, p2 = np.polyfit(OoLs,Ccont,1)\n",
    "    #abp, dump = curve_fit(extrap_curve, Ls[2:8], Ccont)\n",
    "    print abp\n",
    "    print a, p2\n",
    "    plt.plot(OoLs,Ccont,'.-',label=r\"$\\alpha = $\"+str(a))\n",
    "    plt.plot([0,0.5],[p2,p2+0.5*p1])\n",
    "\n",
    "print Ls[cutoff:]\n",
    "\n",
    "plt.show()"
   ]
  }
 ],
 "metadata": {
  "kernelspec": {
   "display_name": "Python 2",
   "language": "python",
   "name": "python2"
  },
  "language_info": {
   "codemirror_mode": {
    "name": "ipython",
    "version": 2
   },
   "file_extension": ".py",
   "mimetype": "text/x-python",
   "name": "python",
   "nbconvert_exporter": "python",
   "pygments_lexer": "ipython2",
   "version": "2.7.10"
  }
 },
 "nbformat": 4,
 "nbformat_minor": 0
}
