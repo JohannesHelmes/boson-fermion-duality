{
 "cells": [
  {
   "cell_type": "code",
   "execution_count": 21,
   "metadata": {
    "collapsed": false
   },
   "outputs": [
    {
     "name": "stdout",
     "output_type": "stream",
     "text": [
      "[ 0.01044902  0.00306022  0.54271115]\n",
      "1.0 0.0104490052935\n",
      "[ 0.01044902  0.00306022  0.54271115]\n",
      "2.0 0.00688323180718\n",
      "[ 0.01044902  0.00306022  0.54271115]\n",
      "3.0 0.00578916184116\n",
      "[ 0.01044902  0.00306022  0.54271115]\n",
      "4.0 0.00533329431158\n",
      "[14.0, 16.0, 18.0, 20.0, 22.0, 24.0]\n"
     ]
    }
   ],
   "source": [
    "import numpy as np\n",
    "from scipy.optimize import curve_fit\n",
    "import matplotlib.pyplot as plt\n",
    "\n",
    "pre_path=\"../fermions/square-in-torus/std-prec/data/Renyi1234/EE_band_tanm2_M0.00_Lmult8.00_alpha\"\n",
    "post_path=\"00_pbc.txt\"\n",
    "\n",
    "\n",
    "alphas = [1.0,2.0,3.0,4.0]\n",
    "\n",
    "\n",
    "def arealaw(x,a,b,c):\n",
    "    return a*x + b*np.log(x) + c\n",
    "\n",
    "def extrap_curve(x, a,b,p):\n",
    "    return a + b/(x**p)\n",
    "\n",
    "cutoffs=np.array(range(1,6))\n",
    "\n",
    "for a in alphas:\n",
    "    Ccont=[]\n",
    "    OoLs=[]\n",
    "    dump, L, S = np.loadtxt(pre_path+str(a)+post_path,unpack=True)\n",
    "    Ss= [s for (l,s) in sorted(zip(L,S))]\n",
    "    Ls=sorted(L)\n",
    "    for cutoff in cutoffs:\n",
    "\n",
    "        popt, pcov = curve_fit(arealaw, Ls[cutoff:cutoff+5], Ss[cutoff:cutoff+5])\n",
    "        #print a, (-popt[1]/8.)\n",
    "        \n",
    "        #print Ls[cutoff+5]\n",
    "        \n",
    "        Ccont.append((-popt[1]/8.))\n",
    "        #OoLs.append(1./np.log(Ls[cutoff]))\n",
    "        OoLs.append(1./(Ls[cutoff]**0.5427))\n",
    "        \n",
    "        \n",
    "    p1, p2 = np.polyfit(OoLs,Ccont,1)\n",
    "    #abp, dump = curve_fit(extrap_curve, Ls[1:6], Ccont)\n",
    "    print abp\n",
    "    print a, p2\n",
    "    plt.plot(OoLs,Ccont,'.-',label=r\"$\\alpha = $\"+str(a))\n",
    "    plt.plot([0,0.5],[p2,p2+0.5*p1])\n",
    "\n",
    "print Ls[cutoff:]\n",
    "\n",
    "plt.show()"
   ]
  }
 ],
 "metadata": {
  "kernelspec": {
   "display_name": "Python 2",
   "language": "python",
   "name": "python2"
  },
  "language_info": {
   "codemirror_mode": {
    "name": "ipython",
    "version": 2
   },
   "file_extension": ".py",
   "mimetype": "text/x-python",
   "name": "python",
   "nbconvert_exporter": "python",
   "pygments_lexer": "ipython2",
   "version": "2.7.10"
  }
 },
 "nbformat": 4,
 "nbformat_minor": 0
}
