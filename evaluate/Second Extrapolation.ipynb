{
 "cells": [
  {
   "cell_type": "code",
   "execution_count": 10,
   "metadata": {
    "collapsed": false
   },
   "outputs": [
    {
     "name": "stdout",
     "output_type": "stream",
     "text": [
      "45 -0.0385348281389\n",
      "46 -0.0385772872081\n",
      "47 -0.0386179294824\n",
      "48 -0.0386568698488\n",
      "49 -0.0386942237052\n",
      "50 -0.0387300735494\n",
      "51 -0.0387645395329\n",
      "52 -0.0387976822694\n",
      "53 -0.0388295739608\n",
      "54 -0.0388602815401\n",
      "55 -0.0388898948253\n",
      "45 -0.0209545725494\n",
      "46 -0.0209929257379\n",
      "47 -0.0210295949673\n",
      "48 -0.0210646886219\n",
      "49 -0.0210983067686\n",
      "50 -0.0211305396971\n",
      "51 -0.0211614731354\n",
      "52 -0.0211911829342\n",
      "53 -0.0212197400906\n",
      "54 -0.0212472101991\n",
      "55 -0.021273655741\n",
      "45 -0.0162745425352\n",
      "46 -0.0163139600008\n",
      "47 -0.0163517893157\n",
      "48 -0.0163881272755\n",
      "49 -0.0164230634452\n",
      "50 -0.0164566791433\n",
      "51 -0.0164890514693\n",
      "52 -0.0165202493328\n",
      "53 -0.0165503371729\n",
      "54 -0.0165793748221\n",
      "55 -0.0166074193045\n",
      "45 -0.0143484771379\n",
      "46 -0.0143843586814\n",
      "47 -0.0144188398545\n",
      "48 -0.0144520050269\n",
      "49 -0.0144839322539\n",
      "50 -0.0145146924702\n",
      "51 -0.0145443530128\n",
      "52 -0.0145729739572\n",
      "53 -0.014600611625\n",
      "54 -0.0146273182843\n",
      "55 -0.0146531437273\n"
     ]
    },
    {
     "name": "stderr",
     "output_type": "stream",
     "text": [
      "/home/johannes/.local/lib/python2.7/site-packages/ipykernel/__main__.py:24: DeprecationWarning: using a non-integer number instead of an integer will result in an error in the future\n"
     ]
    }
   ],
   "source": [
    "import numpy as np\n",
    "from scipy.optimize import curve_fit\n",
    "\n",
    "angle=45\n",
    "path_bos=\"../bosons/other-angles/data/results_mass0-0_angle\"+str(angle)+\"_alpha\"\n",
    "\n",
    "def str_(f):\n",
    "    return str(f).replace(\".\",\"-\")\n",
    "\n",
    "alphas = [1.0,2.0,3.0,4.0]\n",
    "\n",
    "def extrapol_func(x,A,B,p):\n",
    "    return A + B/(x**p)\n",
    "\n",
    "order_span = 6\n",
    "MAX_ORDERS = [45,46,47,48,49,50,51,52,53,54,55]\n",
    "\n",
    "for a in alphas:\n",
    "    order, cterm = np.loadtxt(path_bos+str_(a)+\".txt\", unpack = True)\n",
    "    order0 = order[0]-1\n",
    "    ln_order=np.log(order)\n",
    "    \n",
    "    for mo in MAX_ORDERS:\n",
    "        a, b = np.polyfit(ln_order[mo-order0-order_span:mo-order0],cterm[mo-order0-order_span:mo-order0],1)\n",
    "        print mo, a"
   ]
  }
 ],
 "metadata": {
  "kernelspec": {
   "display_name": "Python 2",
   "language": "python",
   "name": "python2"
  },
  "language_info": {
   "codemirror_mode": {
    "name": "ipython",
    "version": 2
   },
   "file_extension": ".py",
   "mimetype": "text/x-python",
   "name": "python",
   "nbconvert_exporter": "python",
   "pygments_lexer": "ipython2",
   "version": "2.7.10"
  }
 },
 "nbformat": 4,
 "nbformat_minor": 0
}
