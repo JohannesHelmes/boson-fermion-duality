{
 "cells": [
  {
   "cell_type": "code",
   "execution_count": 185,
   "metadata": {
    "collapsed": false
   },
   "outputs": [
    {
     "name": "stdout",
     "output_type": "stream",
     "text": [
      "1.0 2.51771167503 45.9223067466 412.436700118\n",
      "2.53635153383\n",
      "2.0 1.38036750956 34.0251749565 451.221953509\n",
      "1.41309507119\n",
      "3.0 1.078430415 128.955826591 1136.19102487\n",
      "1.12837913562\n",
      "4.0 0.952400636766 142.363272387 1193.52043981\n",
      "0.999644086467\n"
     ]
    },
    {
     "name": "stderr",
     "output_type": "stream",
     "text": [
      "/home/johannes/.local/lib/python2.7/site-packages/ipykernel/__main__.py:41: DeprecationWarning: using a non-integer number instead of an integer will result in an error in the future\n",
      "/home/johannes/.local/lib/python2.7/site-packages/ipykernel/__main__.py:21: RuntimeWarning: overflow encountered in power\n"
     ]
    }
   ],
   "source": [
    "#Bosons\n",
    "import numpy as np\n",
    "from scipy.optimize import curve_fit\n",
    "\n",
    "\n",
    "def str_(f):\n",
    "    return str(f).replace(\".\",\"-\")\n",
    "\n",
    "angle=67.5\n",
    "if angle==90:\n",
    "    path_bos=\"../bosons/right-angle/data/results_mass0-0_alpha\"\n",
    "else:\n",
    "    path_bos=\"../bosons/other-angles/data/results_mass0-0_angle\"+str_(angle)+\"_alpha\"\n",
    "C_T_bos = 3./(np.pi**2*32)\n",
    "\n",
    "\n",
    "\n",
    "alphas = [1.0,2.0,3.0,4.0]\n",
    "\n",
    "def extrapol_func(x,A,B,p):\n",
    "    return A + B/(x**p)\n",
    "\n",
    "order_span = 8\n",
    "order_step = 1\n",
    "start_order = 40\n",
    "MAX_ORDERS = np.array([35,36,37,38,39,40,41,42,43,44,45,46,47,48,49,50,51,52,53,54,55])\n",
    "#MAX_ORDERS = np.array([45,47,49,51,53,55])\n",
    "#MAX_ORDERS = np.array([44,46,48,50,52,54])\n",
    "MAX_ORDERS = np.array([48,49,50,51,52,53,54,55])\n",
    "#MAX_ORDERS = np.array([44,45,46,47,48,49,50,51,52,53,54,55])\n",
    "\n",
    "\n",
    "for a in alphas:\n",
    "    order, cterm = np.loadtxt(path_bos+str_(a)+\".txt\", unpack = True)\n",
    "    order0 = order[0]-1\n",
    "    ln_order=np.log(order)\n",
    "    first_extrap = []\n",
    "    \n",
    "    for mo in MAX_ORDERS:\n",
    "        start_order = mo-order_span\n",
    "        c, dump = np.polyfit(ln_order[start_order-order0:mo-order0:order_step],cterm[start_order-order0:mo-order0:order_step],1)\n",
    "        first_extrap.append(-c/C_T_bos)\n",
    "        #print -c/C_T_bos\n",
    "        \n",
    "    (A, B, p), pcov = curve_fit(extrapol_func,MAX_ORDERS,first_extrap,[1.0,0.05,2.0])\n",
    "    # Do a 1/L fit as well\n",
    "    slope, e = np.polyfit(1./MAX_ORDERS,first_extrap,1)\n",
    "    print a, A, B, p\n",
    "    print e\n",
    "    # print A,"
   ]
  },
  {
   "cell_type": "code",
   "execution_count": 1,
   "metadata": {
    "collapsed": false
   },
   "outputs": [
    {
     "name": "stdout",
     "output_type": "stream",
     "text": [
      "1.0 7.52213113011 42.0047675558 86.0174038716 7.69877319828\n",
      "2.0 5.46551618188 -4.97632743905 20.4697024078 5.38759064407\n",
      "3.0 4.8164484774 -248.412873403 4.04601615352 4.89079249785\n",
      "4.0 4.46385587373 -3.82251873677 2.42817986272 4.56774997606\n"
     ]
    },
    {
     "name": "stderr",
     "output_type": "stream",
     "text": [
      "/home/johannes/.local/lib/python2.7/site-packages/ipykernel/__main__.py:34: DeprecationWarning: using a non-integer number instead of an integer will result in an error in the future\n",
      "/usr/local/lib/python2.7/dist-packages/scipy/optimize/minpack.py:690: OptimizeWarning: Covariance of the parameters could not be estimated\n",
      "  category=OptimizeWarning)\n"
     ]
    }
   ],
   "source": [
    "#fermions\n",
    "import numpy as np\n",
    "from scipy.optimize import curve_fit\n",
    "import matplotlib.pylab as plt\n",
    "\n",
    "def str_(f):\n",
    "    return str(f).replace(\".\",\"-\")\n",
    "\n",
    "angle=22.5\n",
    "path_fer=\"../fermions/nlce/other-angles/data/results_mass1-0_angle\"+str_(angle)+\"_alpha\"\n",
    "C_T_fer = 3./(np.pi**2*16)\n",
    "\n",
    "\n",
    "\n",
    "alphas = [1.0,2.0,3.0,4.0]\n",
    "\n",
    "def extrapol_func(x,A,B,p):\n",
    "    return A + B/(x**p)\n",
    "\n",
    "order_span = 8\n",
    "order_step = 1\n",
    "start_order = 40\n",
    "MAX_ORDERS = np.array([23,24,25,26,27,28,29,30])\n",
    "\n",
    "\n",
    "for a in alphas:\n",
    "    order, cterm = np.loadtxt(path_fer+str_(a)+\".txt\", unpack = True)\n",
    "    order0 = order[0]-1\n",
    "    ln_order=np.log(order)\n",
    "    first_extrap = []\n",
    "    \n",
    "    for mo in MAX_ORDERS:\n",
    "        start_order = mo-order_span\n",
    "        c, dump = np.polyfit(ln_order[start_order-order0:mo-order0:order_step],cterm[start_order-order0:mo-order0:order_step],1)\n",
    "        first_extrap.append(-c)\n",
    "        #print -c/C_T_fer\n",
    "        \n",
    "    (A, B, p), pcov = curve_fit(extrapol_func,MAX_ORDERS,first_extrap,p0=[1.05,0.08,1.0])\n",
    "    slope, e = np.polyfit(1./(MAX_ORDERS**1),first_extrap,1)\n",
    "\n",
    "    print a, A/C_T_fer, B, p, e/C_T_fer\n",
    "    #print A/C_T_fer, p,\n"
   ]
  },
  {
   "cell_type": "code",
   "execution_count": null,
   "metadata": {
    "collapsed": true
   },
   "outputs": [],
   "source": []
  }
 ],
 "metadata": {
  "kernelspec": {
   "display_name": "Python 2",
   "language": "python",
   "name": "python2"
  },
  "language_info": {
   "codemirror_mode": {
    "name": "ipython",
    "version": 2
   },
   "file_extension": ".py",
   "mimetype": "text/x-python",
   "name": "python",
   "nbconvert_exporter": "python",
   "pygments_lexer": "ipython2",
   "version": "2.7.10"
  }
 },
 "nbformat": 4,
 "nbformat_minor": 0
}
