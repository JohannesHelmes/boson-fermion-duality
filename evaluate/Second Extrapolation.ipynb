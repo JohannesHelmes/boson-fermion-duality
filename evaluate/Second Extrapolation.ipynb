{
 "cells": [
  {
   "cell_type": "code",
   "execution_count": 193,
   "metadata": {
    "collapsed": false
   },
   "outputs": [
    {
     "name": "stdout",
     "output_type": "stream",
     "text": [
      "1.0 0.550460479481 -2236.22065696 1728.78876002\n",
      "0.551248069119\n",
      "2.0 0.298800513653 -7817.80823795 3709.15792638\n",
      "0.300517761068\n",
      "3.0 0.233729680473 -34013.213306 11436.4155722\n",
      "0.239408593185\n",
      "4.0 0.206700023678 -33191.3879164 11171.9552467\n",
      "0.212225105988\n"
     ]
    },
    {
     "name": "stderr",
     "output_type": "stream",
     "text": [
      "/home/johannes/.local/lib/python2.7/site-packages/ipykernel/__main__.py:37: DeprecationWarning: using a non-integer number instead of an integer will result in an error in the future\n",
      "/home/johannes/.local/lib/python2.7/site-packages/ipykernel/__main__.py:17: RuntimeWarning: overflow encountered in power\n"
     ]
    }
   ],
   "source": [
    "#Bosons\n",
    "import numpy as np\n",
    "from scipy.optimize import curve_fit\n",
    "\n",
    "\n",
    "def str_(f):\n",
    "    return str(f).replace(\".\",\"-\")\n",
    "\n",
    "angle=112.5\n",
    "path_bos=\"../bosons/other-angles/data/results_mass0-0_angle\"+str_(angle)+\"_alpha\"\n",
    "C_T_bos = 3./(np.pi**2*32)\n",
    "\n",
    "\n",
    "\n",
    "alphas = [1.0,2.0,3.0,4.0]\n",
    "\n",
    "def extrapol_func(x,A,B,p):\n",
    "    return A + B/(x**p)\n",
    "\n",
    "order_span = 8\n",
    "order_step = 1\n",
    "start_order = 40\n",
    "MAX_ORDERS = np.array([35,36,37,38,39,40,41,42,43,44,45,46,47,48,49,50,51,52,53,54,55])\n",
    "#MAX_ORDERS = np.array([45,47,49,51,53,55])\n",
    "#MAX_ORDERS = np.array([44,46,48,50,52,54])\n",
    "MAX_ORDERS = np.array([48,49,50,51,52,53,54,55])\n",
    "#MAX_ORDERS = np.array([44,45,46,47,48,49,50,51,52,53,54,55])\n",
    "\n",
    "\n",
    "for a in alphas:\n",
    "    order, cterm = np.loadtxt(path_bos+str_(a)+\".txt\", unpack = True)\n",
    "    order0 = order[0]-1\n",
    "    ln_order=np.log(order)\n",
    "    first_extrap = []\n",
    "    \n",
    "    for mo in MAX_ORDERS:\n",
    "        start_order = mo-order_span\n",
    "        c, dump = np.polyfit(ln_order[start_order-order0:mo-order0:order_step],cterm[start_order-order0:mo-order0:order_step],1)\n",
    "        first_extrap.append(-c/C_T_bos)\n",
    "        #print -c/C_T_bos\n",
    "        \n",
    "    (A, B, p), pcov = curve_fit(extrapol_func,MAX_ORDERS,first_extrap,[-c/C_T_bos,1.0,5.0])\n",
    "    # Do a 1/L fit as well\n",
    "    slope, e = np.polyfit(1./MAX_ORDERS,first_extrap,1)\n",
    "    print a, A, B, p\n",
    "    print e\n",
    "    # print A,"
   ]
  },
  {
   "cell_type": "code",
   "execution_count": 71,
   "metadata": {
    "collapsed": false
   },
   "outputs": [
    {
     "name": "stdout",
     "output_type": "stream",
     "text": [
      "1.0 0.549012348367 0.0914961011955 1.8725532641 0.553013962209\n",
      "2.0 0.418384990635 -43.4371751387 194.509375026 0.402422823089\n",
      "3.0 0.366993988428 -43.4631523581 194.624039476 0.358403496239\n",
      "4.0 0.333518631698 -84.7510486696 377.680743289 0.328793419331\n"
     ]
    },
    {
     "name": "stderr",
     "output_type": "stream",
     "text": [
      "/home/johannes/.local/lib/python2.7/site-packages/ipykernel/__main__.py:34: DeprecationWarning: using a non-integer number instead of an integer will result in an error in the future\n",
      "/home/johannes/.local/lib/python2.7/site-packages/ipykernel/__main__.py:18: RuntimeWarning: overflow encountered in power\n"
     ]
    }
   ],
   "source": [
    "#fermions\n",
    "import numpy as np\n",
    "from scipy.optimize import curve_fit\n",
    "import matplotlib.pylab as plt\n",
    "\n",
    "def str_(f):\n",
    "    return str(f).replace(\".\",\"-\")\n",
    "\n",
    "angle=112.5\n",
    "path_fer=\"../fermions/nlce/other-angles/data/results_mass1-0_angle\"+str_(angle)+\"_alpha\"\n",
    "C_T_fer = 3./(np.pi**2*16)\n",
    "\n",
    "\n",
    "\n",
    "alphas = [1.0,2.0,3.0,4.0]\n",
    "\n",
    "def extrapol_func(x,A,B,p):\n",
    "    return A + B/(x**p)\n",
    "\n",
    "order_span = 8\n",
    "order_step = 1\n",
    "start_order = 40\n",
    "MAX_ORDERS = np.array([23,24,25,26,27,28,29,30])\n",
    "\n",
    "\n",
    "for a in alphas:\n",
    "    order, cterm = np.loadtxt(path_fer+str_(a)+\".txt\", unpack = True)\n",
    "    order0 = order[0]-1\n",
    "    ln_order=np.log(order)\n",
    "    first_extrap = []\n",
    "    \n",
    "    for mo in MAX_ORDERS:\n",
    "        start_order = mo-order_span\n",
    "        c, dump = np.polyfit(ln_order[start_order-order0:mo-order0:order_step],cterm[start_order-order0:mo-order0:order_step],1)\n",
    "        first_extrap.append(-c)\n",
    "        #print -c/C_T_fer\n",
    "        \n",
    "    (A, B, p), pcov = curve_fit(extrapol_func,MAX_ORDERS,first_extrap,p0=[1.05,0.07,2.0])\n",
    "    slope, e = np.polyfit(1./(MAX_ORDERS**3),first_extrap,1)\n",
    "\n",
    "    print a, A/C_T_fer, B, p, e/C_T_fer\n",
    "    #print A/C_T_fer, p,\n"
   ]
  },
  {
   "cell_type": "code",
   "execution_count": null,
   "metadata": {
    "collapsed": true
   },
   "outputs": [],
   "source": []
  }
 ],
 "metadata": {
  "kernelspec": {
   "display_name": "Python 2",
   "language": "python",
   "name": "python2"
  },
  "language_info": {
   "codemirror_mode": {
    "name": "ipython",
    "version": 2
   },
   "file_extension": ".py",
   "mimetype": "text/x-python",
   "name": "python",
   "nbconvert_exporter": "python",
   "pygments_lexer": "ipython2",
   "version": "2.7.10"
  }
 },
 "nbformat": 4,
 "nbformat_minor": 0
}
