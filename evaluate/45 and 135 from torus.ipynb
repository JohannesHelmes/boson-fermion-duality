{
 "cells": [
  {
   "cell_type": "markdown",
   "metadata": {},
   "source": [
    "## Triangle -> 45 degrees"
   ]
  },
  {
   "cell_type": "code",
   "execution_count": 120,
   "metadata": {
    "collapsed": false
   },
   "outputs": [
    {
     "name": "stdout",
     "output_type": "stream",
     "text": [
      "[ 0.07767993 -0.04078965  0.82813997]\n",
      "1 0.0775163018924\n",
      "[ 0.05037978 -0.02376665  0.85325574]\n",
      "2 0.0503071355158\n",
      "[ 0.04340734 -0.37360562  1.90098284]\n",
      "3 0.0434679363109\n",
      "[ 0.04063661  2.23241977  9.10082783]\n",
      "4 0.0406207667455\n",
      "[104.0, 106.0, 108.0, 110.0, 112.0, 114.0, 116.0, 118.0, 120.0, 122.0, 124.0, 126.0, 128.0]\n"
     ]
    }
   ],
   "source": [
    "import numpy as np\n",
    "from scipy.optimize import curve_fit\n",
    "import matplotlib.pyplot as plt\n",
    "\n",
    "pre_path=\"../fermions/square-in-torus/std-prec/data/multiplicity_triangle/EE_triangle_M0.00_Lmult16.00_alpha\"\n",
    "post_path=\"00_pbc.txt\"\n",
    "\n",
    "path=\"../fermions/square-in-torus/std-prec/data/Renyi1234/EE_triangle_all.txt\"\n",
    "\n",
    "CT=3/(np.pi**2*16)\n",
    "\n",
    "alphas = [1,2,3,4]\n",
    "\n",
    "pio2=[0,0.02330,0.01496,0.01282,0.01189]\n",
    "\n",
    "def arealaw(x,a,b,c):\n",
    "    return a*x + b*np.log(x) + c\n",
    "\n",
    "def extrap_curve(x, a,b,p):\n",
    "    return a + b/(x**p)\n",
    "\n",
    "\n",
    "data =  np.loadtxt(path,unpack=True)\n",
    "L=data[0]\n",
    "\n",
    "cutoffs=np.array(range(40,51))\n",
    "\n",
    "for a in alphas:\n",
    "    Ccont=[]\n",
    "    OoLs=[]\n",
    "    #L, S = np.loadtxt(pre_path+str(a)+post_path,unpack=True)\n",
    "    S = data[a]\n",
    "    Ss= [s for (l,s) in sorted(zip(L,S))]\n",
    "    Ls=sorted(L)\n",
    "    for cutoff in cutoffs:\n",
    "\n",
    "        popt, pcov = curve_fit(arealaw, Ls[cutoff:cutoff+12], Ss[cutoff:cutoff+12])\n",
    "    \n",
    "        #print a, (-popt[1]-pio2[int(a)])/(2.)\n",
    "        \n",
    "        #print Ls[cutoff+12]\n",
    "        Ccont.append((-popt[1]-pio2[int(a)])/(2.))\n",
    "        #OoLs.append(1./np.log(Ls[cutoff]))\n",
    "        OoLs.append(1./(Ls[cutoff]**1.0))\n",
    "        \n",
    "        \n",
    "    p1, p2 = np.polyfit(OoLs,Ccont,1)\n",
    "    abp, dump = curve_fit(extrap_curve, Ls[40:51], Ccont)\n",
    "    print abp\n",
    "    print a, p2\n",
    "    plt.plot(OoLs,Ccont,'.-',label=r\"$\\alpha = $\"+str(a))\n",
    "    plt.plot([0,0.5],[p2,p2+0.5*p1])\n",
    "\n",
    "print Ls[cutoff:]\n",
    "\n",
    "plt.show()"
   ]
  },
  {
   "cell_type": "markdown",
   "metadata": {},
   "source": [
    "## Parallelogram -> 135"
   ]
  },
  {
   "cell_type": "code",
   "execution_count": 127,
   "metadata": {
    "collapsed": false
   },
   "outputs": [
    {
     "name": "stdout",
     "output_type": "stream",
     "text": [
      "[ 0.00156096  0.00389355  0.27076397]\n",
      "1 0.00490512337093\n",
      "[ 0.00156096  0.00389355  0.27076397]\n",
      "2 0.00314914066938\n",
      "[ 0.00156096  0.00389355  0.27076397]\n",
      "3 0.00272263577759\n",
      "[ 0.00156096  0.00389355  0.27076397]\n",
      "4 0.00237019423122\n",
      "[104.0, 106.0, 108.0, 110.0]\n"
     ]
    }
   ],
   "source": [
    "import numpy as np\n",
    "from scipy.optimize import curve_fit\n",
    "import matplotlib.pyplot as plt\n",
    "\n",
    "path=\"../fermions/square-in-torus/std-prec/data/Renyi1234/EE_parallelo45_all.txt\"\n",
    "\n",
    "alphas = [1,2,3,4]\n",
    "\n",
    "pio2=[0,0.0233,0.0149,0.0127,0.0119]\n",
    "pio4=[0,0.0777,0.0504,0.0434,0.0406]\n",
    "thrpio4=[0,0.00503,0.0032,0.00274,0.00253]\n",
    "\n",
    "def arealaw(x,a,b,c):\n",
    "    return a*x + b*np.log(x) + c\n",
    "\n",
    "def extrap_curve(x, a,b,p):\n",
    "    return a + b/(x**p)\n",
    "\n",
    "cutoffs=np.array(range(49,52))\n",
    "\n",
    "data = np.loadtxt(path,unpack=True) \n",
    "L = data[0]\n",
    "\n",
    "for a in alphas:\n",
    "    Ccont=[]\n",
    "    OoLs=[]\n",
    "    S = data[a]\n",
    "    Ss= [s for (l,s) in sorted(zip(L,S))]\n",
    "    Ls=sorted(L)\n",
    "    for cutoff in cutoffs:\n",
    "\n",
    "        popt, pcov = curve_fit(arealaw, Ls[cutoff:cutoff+4], Ss[cutoff:cutoff+4])\n",
    "        #print a, (-popt[1]/(2.)-pio4[int(a)])\n",
    "        \n",
    "        Ccont.append((-popt[1]/2.-pio4[int(a)]))\n",
    "        #OoLs.append(1./np.log(Ls[cutoff]))\n",
    "        OoLs.append(1./(Ls[cutoff]**1))\n",
    "        \n",
    "        \n",
    "    p1, p2 = np.polyfit(OoLs,Ccont,1)\n",
    "    #abp, dump = curve_fit(extrap_curve, Ls[44:48], Ccont)\n",
    "    print abp\n",
    "    print a, p2\n",
    "    plt.plot(OoLs,Ccont,'.-',label=r\"$\\alpha = $\"+str(a))\n",
    "    plt.plot([0,0.5],[p2,p2+0.5*p1])\n",
    "\n",
    "print Ls[cutoff:cutoff+12]\n",
    "\n",
    "plt.show()"
   ]
  },
  {
   "cell_type": "markdown",
   "metadata": {},
   "source": [
    "## Octagon for 135 degrees"
   ]
  },
  {
   "cell_type": "code",
   "execution_count": 71,
   "metadata": {
    "collapsed": false
   },
   "outputs": [
    {
     "name": "stdout",
     "output_type": "stream",
     "text": [
      "[ 0.00502733 -0.00559284  1.41308537]\n",
      "1.0 0.00507642371741\n",
      "[ 0.0031924  -0.00503829  1.22780691]\n",
      "2.0 0.0032326157292\n",
      "[ 0.00267897 -0.00410154  1.04268828]\n",
      "3.0 0.00268909585766\n",
      "[ 0.00244174 -0.00368     1.07867481]\n",
      "4.0 0.0024569275954\n",
      "[24.0, 25.0, 26.0, 27.0, 28.0, 29.0, 30.0, 31.0, 32.0]\n"
     ]
    }
   ],
   "source": [
    "import numpy as np\n",
    "from scipy.optimize import curve_fit\n",
    "import matplotlib.pyplot as plt\n",
    "\n",
    "pre_path=\"../fermions/square-in-torus/std-prec/data/Renyi1234/EE_octagon_M0.00_Lmult6.00_alpha\"\n",
    "post_path=\"00_pbc.txt\"\n",
    "\n",
    "CT=3/(np.pi**2*16)\n",
    "\n",
    "alphas = [1.0,2.0,3.0,4.0]\n",
    "\n",
    "pio2=[0,0.0233,0.0149,0.0127,0.0119]\n",
    "pio4=[0,0.0781,0.0505,0.0436,0.0407]\n",
    "\n",
    "def arealaw(x,a,b,c):\n",
    "    return a*x + b*np.log(x) + c\n",
    "\n",
    "def extrap_curve(x, a,b,p):\n",
    "    return a + b/(x**p)\n",
    "\n",
    "cutoffs=np.array(range(8,23))\n",
    "\n",
    "for a in alphas:\n",
    "    Ccont=[]\n",
    "    OoLs=[]\n",
    "    dump, L, S = np.loadtxt(pre_path+str(a)+post_path,unpack=True)\n",
    "    Ss= [s for (l,s) in sorted(zip(L,S))]\n",
    "    Ls=sorted(L)\n",
    "    for cutoff in cutoffs:\n",
    "\n",
    "        popt, pcov = curve_fit(arealaw, Ls[cutoff:cutoff+8], Ss[cutoff:cutoff+8])\n",
    "        #print a, (-popt[1]/(2.)-pio4[int(a)])\n",
    "        \n",
    "        #print Ls[cutoff+6]\n",
    "        \n",
    "        Ccont.append((-popt[1]/8.))\n",
    "        #OoLs.append(1./np.log(Ls[cutoff]))\n",
    "        OoLs.append(1./(Ls[cutoff]**1))\n",
    "        \n",
    "        \n",
    "    p1, p2 = np.polyfit(OoLs,Ccont,1)\n",
    "    abp, dump = curve_fit(extrap_curve, Ls[8:23],Ccont)\n",
    "    print abp\n",
    "    print a, p2\n",
    "    plt.plot(OoLs,Ccont,'.-',label=r\"$\\alpha = $\"+str(a))\n",
    "    plt.plot([0,0.5],[p2,p2+0.5*p1])\n",
    "\n",
    "print Ls[cutoff:]\n",
    "\n",
    "plt.show()"
   ]
  }
 ],
 "metadata": {
  "kernelspec": {
   "display_name": "Python 2",
   "language": "python",
   "name": "python2"
  },
  "language_info": {
   "codemirror_mode": {
    "name": "ipython",
    "version": 2
   },
   "file_extension": ".py",
   "mimetype": "text/x-python",
   "name": "python",
   "nbconvert_exporter": "python",
   "pygments_lexer": "ipython2",
   "version": "2.7.10"
  }
 },
 "nbformat": 4,
 "nbformat_minor": 0
}
