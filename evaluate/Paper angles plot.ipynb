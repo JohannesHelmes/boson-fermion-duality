{
 "cells": [
  {
   "cell_type": "code",
   "execution_count": 1,
   "metadata": {
    "collapsed": false
   },
   "outputs": [],
   "source": [
    "#Duality for different angles at alpha = 1\n",
    "\n",
    "import numpy as np\n",
    "import matplotlib.pyplot as plt\n",
    "from matplotlib import rcParams\n",
    "\n",
    "######### Plotting parameters: #########\n",
    "fig_width_pt = 246.0  # Get this from LaTeX using \\showthe\\columnwidth\n",
    "inches_per_pt = 1.0/72.27               # Convert pt to inch\n",
    "golden_mean = (np.sqrt(5)-1.0)/2.0         # Aesthetic ratio\n",
    "fig_width = fig_width_pt*inches_per_pt  # width in inches\n",
    "#fig_height = fig_width*golden_mean      # height in inches\n",
    "fig_height = fig_width*0.75      # height in inches\n",
    "fig_size =  [fig_width,fig_height]\n",
    "\n",
    "rcParams['axes.labelsize']  = 10\n",
    "rcParams['figure.figsize']  = fig_size\n",
    "rcParams['font.family']     = 'serif'\n",
    "rcParams['font.serif']      = ['Computer Modern']\n",
    "rcParams['font.size']       = 10\n",
    "#rcParams['text.fontsize']   = 10 ##text.fontsize is deprecated and replaced with font.size\n",
    "rcParams['text.usetex']     = True\n",
    "rcParams['legend.fontsize'] = 8\n",
    "rcParams['xtick.labelsize'] = 8\n",
    "rcParams['ytick.labelsize'] = 8\n",
    "\n",
    "ferm_file='fermion_angles.dat'\n",
    "bos_file='boson_angles.dat'\n",
    "\n",
    "\n",
    "#from scipy.optimize import curve_fit\n",
    "\n",
    "C_ferm=3./(16*np.pi**2)\n",
    "C_bos=3./(32*np.pi**2)\n",
    "\n",
    "ferm_dat=np.loadtxt(ferm_file,unpack=True)\n",
    "bos_dat=np.loadtxt(bos_file,unpack=True)\n",
    "\n",
    "\n",
    "\n",
    "angles_ferm= ferm_dat[0]/360 * 2. * np.pi\n",
    "cterm1_ferm= ferm_dat[1]\n",
    "\n",
    "angles_bos= bos_dat[0]/360 * 2. * np.pi\n",
    "cterm1_bos= bos_dat[1]\n",
    "\n",
    "\n",
    "plt.plot(angles_ferm,cterm1_ferm,'.-',label=r\"fermion $\\alpha=1$\")\n",
    "plt.plot(angles_bos,cterm1_bos,'.-',label=r\"boson $\\alpha=1$\")\n",
    "\n",
    "\n",
    "plt.xlim(0.,np.pi)\n",
    "plt.ylim(0.0,10)\n",
    "\n",
    "plt.xticks([0.464,np.pi/4,1.107,np.pi/2,2.034,3*np.pi/4,2.678],\n",
    "           [r\"0.464\",r\"$\\frac{\\pi}{4}$\",r\"1.107\",\n",
    "            r\"$\\frac{\\pi}{2}$\",r\"2.034\",r\"$\\frac{3\\pi}{4}$\",r\"2.678\"])\n",
    "\n",
    "plt.ylabel(r\"corner term $a(\\theta) / C_T$\")\n",
    "plt.xlabel(r\"angle - $\\theta$\")\n",
    "\n",
    "plt.legend(loc=\"upper right\",frameon=False)\n",
    "plt.savefig('Duality_diff_angles.pdf')\n",
    "\n",
    "plt.show()"
   ]
  },
  {
   "cell_type": "code",
   "execution_count": null,
   "metadata": {
    "collapsed": true
   },
   "outputs": [],
   "source": []
  }
 ],
 "metadata": {
  "kernelspec": {
   "display_name": "Python 2",
   "language": "python",
   "name": "python2"
  },
  "language_info": {
   "codemirror_mode": {
    "name": "ipython",
    "version": 2
   },
   "file_extension": ".py",
   "mimetype": "text/x-python",
   "name": "python",
   "nbconvert_exporter": "python",
   "pygments_lexer": "ipython2",
   "version": "2.7.10"
  }
 },
 "nbformat": 4,
 "nbformat_minor": 0
}
